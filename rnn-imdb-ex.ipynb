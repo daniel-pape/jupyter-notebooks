{
 "cells": [
  {
   "cell_type": "markdown",
   "metadata": {},
   "source": [
    "# Recurrent neural network: IMDB example"
   ]
  },
  {
   "cell_type": "code",
   "execution_count": 1,
   "metadata": {},
   "outputs": [
    {
     "name": "stderr",
     "output_type": "stream",
     "text": [
      "Using TensorFlow backend.\n"
     ]
    }
   ],
   "source": [
    "import numpy as np\n",
    "import pandas as pd\n",
    "import matplotlib.pyplot as plt\n",
    "\n",
    "from keras.utils import plot_model\n",
    "from keras.datasets import imdb\n",
    "from keras.preprocessing import sequence\n",
    "from keras.models import Sequential, Model\n",
    "from keras.layers.core import Dense, Activation, Dropout\n",
    "from keras.layers import SimpleRNN, Embedding, Input\n",
    "from keras.layers.recurrent import LSTM, GRU\n",
    "from typing import List\n",
    "\n",
    "from sklearn.metrics import roc_auc_score"
   ]
  },
  {
   "cell_type": "code",
   "execution_count": 2,
   "metadata": {},
   "outputs": [],
   "source": [
    "# For reproducibility:\n",
    "np.random.seed(1234)\n",
    "\n",
    "from tensorflow import set_random_seed\n",
    "set_random_seed(2)"
   ]
  },
  {
   "cell_type": "code",
   "execution_count": 3,
   "metadata": {},
   "outputs": [],
   "source": [
    "import os\n",
    "\n",
    "img_path = './img'\n",
    "\n",
    "if not os.path.isdir(img_path):\n",
    "    os.mkdir(img_path)"
   ]
  },
  {
   "cell_type": "markdown",
   "metadata": {},
   "source": [
    "## Global parameters and helper functions"
   ]
  },
  {
   "cell_type": "code",
   "execution_count": 4,
   "metadata": {},
   "outputs": [],
   "source": [
    "# Vector space embedding:\n",
    "embedding_dim = 64\n",
    "n_top_freq_words = 10000\n",
    "max_review_length = 100\n",
    "# drop_embed = 0.2\n",
    "\n",
    "# Training:\n",
    "epochs = 16\n",
    "batch_size = 128\n",
    "\n",
    "# RNN layer architecture:\n",
    "#n_rnn = 256\n",
    "#drop_rnn = 0.2"
   ]
  },
  {
   "cell_type": "code",
   "execution_count": 5,
   "metadata": {},
   "outputs": [],
   "source": [
    "def train_and_eval(model, input_train, y_train, input_test, y_test):\n",
    "    model.fit(input_train,  \n",
    "              y_train,\n",
    "              epochs=4,\n",
    "              batch_size=batch_size,\n",
    "              validation_split=0.2)\n",
    "    \n",
    "    score, acc = model.evaluate(input_test, y_test)\n",
    "    \n",
    "    print('Test score:', score)\n",
    "    print('Test accuracy:', acc)"
   ]
  },
  {
   "cell_type": "code",
   "execution_count": 6,
   "metadata": {},
   "outputs": [],
   "source": [
    "def display_model(model):\n",
    "    from IPython.display import Image\n",
    "    from IPython.core.display import HTML \n",
    "    \n",
    "    path = './img/{}.png'.format(model.name)\n",
    "    plot_model(model, to_file=path)\n",
    "    \n",
    "    return Image(url=path)"
   ]
  },
  {
   "cell_type": "code",
   "execution_count": 7,
   "metadata": {},
   "outputs": [],
   "source": [
    "def display_class_seperation(model):\n",
    "    y_test_preds = model.predict_proba(input_test)\n",
    "\n",
    "    plt.hist(y_test_preds)\n",
    "    plt.xlim(0, 1)\n",
    "    _ = plt.axvline(x=0.5, color='red')\n",
    "\n",
    "    \"AUC: {:0.2f}\".format(roc_auc_score(y_test, y_test_preds) * 100.0)"
   ]
  },
  {
   "cell_type": "markdown",
   "metadata": {},
   "source": [
    "## The data"
   ]
  },
  {
   "cell_type": "markdown",
   "metadata": {},
   "source": [
    "The data set consist of reviews for movies from IMDB, the Internet Movie Database. It contains reviews for 25,000 movies, each labeled by sentiment (positive/negative). Sentiment is encoded as `1` if positive and as `0` otherwise.\n",
    "\n",
    "Fortunately the data has already been preprocessed: each review is encoded as a sequence of word indexes (integers). The word index itself is the position of a word in the list of all unique words contained in all 25,000 movies ordered by their frequency (from most frequent words down to the most uncommon ones). So the word index \"3\" encodes the 3rd most frequent word in the data, which happens to be \"a\" like in \"a movie\".\n",
    "\n",
    "By convention, \"0\" does not stand for a specific word. Instead it is used to encode any unknown word and can be used for padding (see below).\n",
    "\n",
    "Here are some example reviews from IMDB:"
   ]
  },
  {
   "cell_type": "raw",
   "metadata": {},
   "source": [
    "'''\n",
    "Negative review examples:\n",
    "=========================\n",
    "* Unfortunately it stays absurd the WHOLE time with no general narrative eventually making it just too off putting.\n",
    "* Even those from the era should be turned off.\n",
    "* The cryptic dialogue would make Shakespeare seem easy to a third grader.\n",
    "\n",
    "Positive review examples:\n",
    "=========================\n",
    "* I didn't know this came from Canada, but it is very good. Very good!\n",
    "* I liked this movie a lot. It really intrigued me how Deanna and Alicia became friends over such a tragedy\n",
    "* When I saw the elaborate DVD box for this and the dreadful Red Queen figurine, \n",
    "  I felt certain I was in for a big disappointment, but surprise, surprise, I loved it. \n",
    "'''"
   ]
  },
  {
   "cell_type": "markdown",
   "metadata": {},
   "source": [
    "We load the data set and split it intro training and test sets. Notice than we only pick the top `num_words=500` words (by frequency)."
   ]
  },
  {
   "cell_type": "code",
   "execution_count": 8,
   "metadata": {},
   "outputs": [],
   "source": [
    "(input_train, y_train), (input_test, y_test) = imdb.load_data(num_words=n_top_freq_words, \n",
    "                                                              index_from=0)"
   ]
  },
  {
   "cell_type": "markdown",
   "metadata": {},
   "source": [
    "Let's get an overview on how big the sets are. As it turns out the data is split in 50% for training and 50% for test. (Note: We cannot specify `test_split` for this data set in the `load_data` function.) As promised there are two labels."
   ]
  },
  {
   "cell_type": "code",
   "execution_count": 9,
   "metadata": {},
   "outputs": [
    {
     "name": "stdout",
     "output_type": "stream",
     "text": [
      "25000 train sequences\n",
      "25000 test sequences\n",
      "Shape train sequences: (25000,)\n",
      "Shape test sequences: (25000,)\n",
      "Shape train labels: (25000,)\n",
      "Shape test labels: (25000,)\n",
      "Number of classes: 2\n"
     ]
    }
   ],
   "source": [
    "print(len(input_train), 'train sequences')\n",
    "print(len(input_test), 'test sequences')\n",
    "\n",
    "print('Shape train sequences:', input_train.shape)\n",
    "print('Shape test sequences:', input_test.shape)\n",
    "print('Shape train labels:', y_train.shape)\n",
    "print('Shape test labels:', y_test.shape)\n",
    "print('Number of classes:', len(np.unique(y_test)))"
   ]
  },
  {
   "cell_type": "markdown",
   "metadata": {},
   "source": [
    "We can use Pandas to have a look at the first training samples. As said each of them is a list of word indexes."
   ]
  },
  {
   "cell_type": "code",
   "execution_count": 10,
   "metadata": {},
   "outputs": [
    {
     "data": {
      "text/html": [
       "<div>\n",
       "<style scoped>\n",
       "    .dataframe tbody tr th:only-of-type {\n",
       "        vertical-align: middle;\n",
       "    }\n",
       "\n",
       "    .dataframe tbody tr th {\n",
       "        vertical-align: top;\n",
       "    }\n",
       "\n",
       "    .dataframe thead th {\n",
       "        text-align: right;\n",
       "    }\n",
       "</style>\n",
       "<table border=\"1\" class=\"dataframe\">\n",
       "  <thead>\n",
       "    <tr style=\"text-align: right;\">\n",
       "      <th></th>\n",
       "      <th>word_index_sequence</th>\n",
       "    </tr>\n",
       "  </thead>\n",
       "  <tbody>\n",
       "    <tr>\n",
       "      <th>0</th>\n",
       "      <td>[1, 11, 19, 13, 40, 527, 970, 1619, 1382, 62, ...</td>\n",
       "    </tr>\n",
       "    <tr>\n",
       "      <th>1</th>\n",
       "      <td>[1, 191, 1150, 191, 8252, 75, 225, 2, 3, 1460,...</td>\n",
       "    </tr>\n",
       "    <tr>\n",
       "      <th>2</th>\n",
       "      <td>[1, 11, 44, 5, 27, 28, 4, 1, 246, 105, 4, 1, 5...</td>\n",
       "    </tr>\n",
       "    <tr>\n",
       "      <th>3</th>\n",
       "      <td>[1, 1, 2, 2, 30, 2801, 1, 2037, 429, 108, 150,...</td>\n",
       "    </tr>\n",
       "    <tr>\n",
       "      <th>4</th>\n",
       "      <td>[1, 246, 1320, 4, 58, 110, 7, 7, 10, 1634, 11,...</td>\n",
       "    </tr>\n",
       "  </tbody>\n",
       "</table>\n",
       "</div>"
      ],
      "text/plain": [
       "                                 word_index_sequence\n",
       "0  [1, 11, 19, 13, 40, 527, 970, 1619, 1382, 62, ...\n",
       "1  [1, 191, 1150, 191, 8252, 75, 225, 2, 3, 1460,...\n",
       "2  [1, 11, 44, 5, 27, 28, 4, 1, 246, 105, 4, 1, 5...\n",
       "3  [1, 1, 2, 2, 30, 2801, 1, 2037, 429, 108, 150,...\n",
       "4  [1, 246, 1320, 4, 58, 110, 7, 7, 10, 1634, 11,..."
      ]
     },
     "execution_count": 10,
     "metadata": {},
     "output_type": "execute_result"
    }
   ],
   "source": [
    "pd.DataFrame(input_train, columns=[\"word_index_sequence\"]).head()"
   ]
  },
  {
   "cell_type": "markdown",
   "metadata": {},
   "source": [
    "The following functions loads the word index of the IMDB data set and allows us to translate a word index vector to a human readable format."
   ]
  },
  {
   "cell_type": "code",
   "execution_count": 11,
   "metadata": {},
   "outputs": [],
   "source": [
    "def decode(word_indizes: List[int]):\n",
    "    word_index = imdb.get_word_index()\n",
    "    \n",
    "    inverse_word_index = {\n",
    "        index:word \n",
    "        for word, index \n",
    "        in word_index.items()\n",
    "    }\n",
    "    \n",
    "    words = [\n",
    "        inverse_word_index.get(wrd_idx, '<missing-word>') \n",
    "        for wrd_idx \n",
    "        in word_indizes\n",
    "    ]\n",
    "    \n",
    "    review_txt = ' '.join(words)\n",
    "    \n",
    "    return review_txt"
   ]
  },
  {
   "cell_type": "markdown",
   "metadata": {},
   "source": [
    "The obvious counter part for encoding a review as a word index vector:"
   ]
  },
  {
   "cell_type": "code",
   "execution_count": 12,
   "metadata": {},
   "outputs": [],
   "source": [
    "def encode(review: str):\n",
    "    word_index = imdb.get_word_index()\n",
    "    \n",
    "    encoded_review = [\n",
    "        word_index.get(word, 0) \n",
    "        for word \n",
    "        in review.lower().split(\" \")\n",
    "    ]\n",
    "    \n",
    "    return encoded_review"
   ]
  },
  {
   "cell_type": "markdown",
   "metadata": {},
   "source": [
    "Let's check everythings works fine by encoding and decoding an example:"
   ]
  },
  {
   "cell_type": "code",
   "execution_count": 13,
   "metadata": {},
   "outputs": [
    {
     "data": {
      "text/plain": [
       "'even those from the era should be turned <missing-word>'"
      ]
     },
     "execution_count": 13,
     "metadata": {},
     "output_type": "execute_result"
    }
   ],
   "source": [
    "review = \"Even those from the era should be turned off.\"\n",
    "print(decode(encode(review))) "
   ]
  },
  {
   "cell_type": "markdown",
   "metadata": {},
   "source": [
    "Here is a real training example. (Note: Some words are clearly missing. Remember we limited ourself to the `num_words = 500` when loading the data via `imdb.load_data` above.) The review was favorable and thus gets a sentiment score of 1."
   ]
  },
  {
   "cell_type": "code",
   "execution_count": 14,
   "metadata": {},
   "outputs": [
    {
     "name": "stdout",
     "output_type": "stream",
     "text": [
      "Review: \"the french horror cinema has seen something of a revival over the last couple of years with great films such as inside and and romance and on to the scene and and the revival just slightly but stands head and shoulders over most modern horror titles and is surely one of the best french horror films ever made and was obviously shot on a low budget but this is made up for in far more ways than one by the originality of the film and this in turn is and by the excellent writing and acting that ensure the film is a winner the plot focuses on two main ideas prison and black magic the central character is a man named and sent to prison for fraud he is put in a cell with three others the quietly insane and body building and marcus and his retarded boyfriend daisy after a short while in the cell together they stumble upon a hiding place in the wall that contains an old and after and part of it they soon realise its magical powers and realise they may be able to use it to break through the prison walls br br black magic is a very interesting topic and i'm actually quite surprised that there aren't more films based on it as there's so much scope for things to do with it it's fair to say that and makes the best of it's and as despite it's and the film never actually feels restrained and manages to flow well throughout director eric and provides a great atmosphere for the film the fact that most of it takes place inside the central prison cell and that the film feels very claustrophobic and this immensely benefits the central idea of the prisoners wanting to use magic to break out of the cell it's very easy to get behind them it's often said that the unknown is the thing that really and people and this film proves that as the director and that we can never really be sure of exactly what is round the corner and this helps to ensure that and actually does manage to be quite frightening the film is memorable for a lot of reasons outside the central plot the characters are all very interesting in their own way and the fact that the book itself almost takes on its own character is very well done anyone worried that the film won't deliver by the end won't be disappointed either as the ending both makes sense and manages to be quite horrifying overall and is a truly great horror film and one of the best of the decade highly recommended viewing\"\n",
      "\n",
      "Sentiment:  1\n"
     ]
    }
   ],
   "source": [
    "print('Review: \"{}\"\\n'.format(decode(input_train[10])))\n",
    "print('Sentiment: ', y_train[10])"
   ]
  },
  {
   "cell_type": "markdown",
   "metadata": {},
   "source": [
    "## Preprocessing: Padding"
   ]
  },
  {
   "cell_type": "code",
   "execution_count": 15,
   "metadata": {},
   "outputs": [],
   "source": [
    "input_train = sequence.pad_sequences(input_train, maxlen=max_review_length)\n",
    "input_test = sequence.pad_sequences(input_test, maxlen=max_review_length)"
   ]
  },
  {
   "cell_type": "code",
   "execution_count": 16,
   "metadata": {},
   "outputs": [
    {
     "name": "stdout",
     "output_type": "stream",
     "text": [
      "input_train shape: (25000, 100)\n",
      "input_test shape: (25000, 100)\n"
     ]
    }
   ],
   "source": [
    "print('input_train shape:', input_train.shape)\n",
    "print('input_test shape:', input_test.shape)"
   ]
  },
  {
   "cell_type": "code",
   "execution_count": 17,
   "metadata": {},
   "outputs": [
    {
     "data": {
      "text/plain": [
       "array([1412,   30,    3,   19,    9,  212,   25,   74,   49,    2,   11,\n",
       "        404,   13,   79,    2,    5,    1,  104,  114, 5949,   12,  253,\n",
       "          1,    2,    4, 3763,    2,  720,   33,   68,   40,  527,  473,\n",
       "         23,  397,  314,   43,    4,    1,    2, 1026,   10,  101,   85,\n",
       "          1,  378,   12,  294,   95,   29, 2068,   53,   23,  138,    3,\n",
       "        191, 7483,   15,    1,  223,   19,   18,  131,  473,   23,  477,\n",
       "          2,  141,   27, 5532,   15,   48,   33,   25,  221,   89,   22,\n",
       "        101,    1,  223,   62,   13,   35, 1331,   85,    9,   13,  280,\n",
       "          2,   13, 4469,  110,  100,   29,   12,   13, 5342,   16,  175,\n",
       "         29], dtype=int32)"
      ]
     },
     "execution_count": 17,
     "metadata": {},
     "output_type": "execute_result"
    }
   ],
   "source": [
    "input_train[0]"
   ]
  },
  {
   "cell_type": "markdown",
   "metadata": {},
   "source": [
    "## Simple RNN using the Sequential API"
   ]
  },
  {
   "cell_type": "code",
   "execution_count": 25,
   "metadata": {},
   "outputs": [
    {
     "name": "stdout",
     "output_type": "stream",
     "text": [
      "_________________________________________________________________\n",
      "Layer (type)                 Output Shape              Param #   \n",
      "=================================================================\n",
      "embedding_layer (Embedding)  (None, None, 64)          640000    \n",
      "_________________________________________________________________\n",
      "simple_rnn_layer (SimpleRNN) (None, 64)                8256      \n",
      "_________________________________________________________________\n",
      "dense_layer (Dense)          (None, 1)                 65        \n",
      "=================================================================\n",
      "Total params: 648,321\n",
      "Trainable params: 648,321\n",
      "Non-trainable params: 0\n",
      "_________________________________________________________________\n"
     ]
    }
   ],
   "source": [
    "model = Sequential(name=\"simple_rnn_sequential\")\n",
    "model.add(Embedding(n_top_freq_words, \n",
    "                    embedding_dim, \n",
    "                    input_length=max_review_length, \n",
    "                    name=\"embedding_layer\")) \n",
    "model.add(SimpleRNN(units=embedding_dim, name=\"simple_rnn_layer\"))\n",
    "model.add(Dense(1, activation='sigmoid', name=\"dense_layer\"))\n",
    "\n",
    "model.compile(optimizer='adam', \n",
    "              loss='binary_crossentropy', \n",
    "              metrics=['acc'])\n",
    "\n",
    "model.summary()"
   ]
  },
  {
   "cell_type": "code",
   "execution_count": 26,
   "metadata": {},
   "outputs": [
    {
     "data": {
      "text/html": [
       "<img src=\"./img/simple_rnn_sequential.png\"/>"
      ],
      "text/plain": [
       "<IPython.core.display.Image object>"
      ]
     },
     "execution_count": 26,
     "metadata": {},
     "output_type": "execute_result"
    }
   ],
   "source": [
    "display_model(model)"
   ]
  },
  {
   "cell_type": "code",
   "execution_count": 27,
   "metadata": {
    "scrolled": true
   },
   "outputs": [
    {
     "name": "stdout",
     "output_type": "stream",
     "text": [
      "Train on 20000 samples, validate on 5000 samples\n",
      "Epoch 1/4\n",
      "20000/20000 [==============================] - 10s 493us/step - loss: 0.6324 - acc: 0.6164 - val_loss: 0.4640 - val_acc: 0.7828\n",
      "Epoch 2/4\n",
      "20000/20000 [==============================] - 9s 473us/step - loss: 0.3411 - acc: 0.8564 - val_loss: 0.4035 - val_acc: 0.8236\n",
      "Epoch 3/4\n",
      "20000/20000 [==============================] - 9s 471us/step - loss: 0.1885 - acc: 0.9304 - val_loss: 0.5190 - val_acc: 0.7738\n",
      "Epoch 4/4\n",
      "20000/20000 [==============================] - 10s 480us/step - loss: 0.0702 - acc: 0.9798 - val_loss: 0.6262 - val_acc: 0.7592\n",
      "25000/25000 [==============================] - 6s 254us/step\n",
      "Test score: 0.6038453269004822\n",
      "Test accuracy: 0.77156\n"
     ]
    }
   ],
   "source": [
    "train_and_eval(model, input_train, y_train, input_test, y_test)"
   ]
  },
  {
   "cell_type": "code",
   "execution_count": 28,
   "metadata": {},
   "outputs": [
    {
     "data": {
      "image/png": "[encoded data removed]",
      "text/plain": [
       "<Figure size 432x288 with 1 Axes>"
      ]
     },
     "metadata": {},
     "output_type": "display_data"
    }
   ],
   "source": [
    "display_class_seperation(model)"
   ]
  },
  {
   "cell_type": "markdown",
   "metadata": {},
   "source": [
    "## Simple RNN using the Functional API"
   ]
  },
  {
   "cell_type": "code",
   "execution_count": 29,
   "metadata": {},
   "outputs": [
    {
     "name": "stdout",
     "output_type": "stream",
     "text": [
      "_________________________________________________________________\n",
      "Layer (type)                 Output Shape              Param #   \n",
      "=================================================================\n",
      "input_layer (InputLayer)     (None, 100)               0         \n",
      "_________________________________________________________________\n",
      "embedding_layer (Embedding)  (None, 100, 64)           640000    \n",
      "_________________________________________________________________\n",
      "simple_rnn_layer (SimpleRNN) (None, 64)                8256      \n",
      "_________________________________________________________________\n",
      "dense_layer (Dense)          (None, 1)                 65        \n",
      "=================================================================\n",
      "Total params: 648,321\n",
      "Trainable params: 648,321\n",
      "Non-trainable params: 0\n",
      "_________________________________________________________________\n"
     ]
    }
   ],
   "source": [
    "inputs = Input(shape=(max_review_length,), name=\"input_layer\")\n",
    "embedding_layer = Embedding(n_top_freq_words, embedding_dim, name=\"embedding_layer\")(inputs)\n",
    "simple_rnn_layer = SimpleRNN(units=embedding_dim, name=\"simple_rnn_layer\")(embedding_layer)\n",
    "predictions = Dense(1, activation='sigmoid', name=\"dense_layer\")(simple_rnn_layer)\n",
    "\n",
    "model = Model(inputs=inputs, \n",
    "              outputs=predictions,\n",
    "              name=\"simple_rnn_functional\")\n",
    "\n",
    "model.compile(optimizer='adam', \n",
    "              loss='binary_crossentropy', \n",
    "              metrics=['acc'])\n",
    "\n",
    "model.summary()"
   ]
  },
  {
   "cell_type": "code",
   "execution_count": 30,
   "metadata": {},
   "outputs": [
    {
     "data": {
      "text/html": [
       "<img src=\"./img/simple_rnn_functional.png\"/>"
      ],
      "text/plain": [
       "<IPython.core.display.Image object>"
      ]
     },
     "execution_count": 30,
     "metadata": {},
     "output_type": "execute_result"
    }
   ],
   "source": [
    "display_model(model)"
   ]
  },
  {
   "cell_type": "code",
   "execution_count": 31,
   "metadata": {},
   "outputs": [
    {
     "name": "stdout",
     "output_type": "stream",
     "text": [
      "Train on 20000 samples, validate on 5000 samples\n",
      "Epoch 1/4\n",
      "20000/20000 [==============================] - 10s 499us/step - loss: 0.6366 - acc: 0.6162 - val_loss: 0.4739 - val_acc: 0.7782\n",
      "Epoch 2/4\n",
      "20000/20000 [==============================] - 10s 480us/step - loss: 0.3467 - acc: 0.8522 - val_loss: 0.4106 - val_acc: 0.8294\n",
      "Epoch 3/4\n",
      "20000/20000 [==============================] - 10s 476us/step - loss: 0.1680 - acc: 0.9408 - val_loss: 0.5022 - val_acc: 0.7948\n",
      "Epoch 4/4\n",
      "20000/20000 [==============================] - 10s 475us/step - loss: 0.0602 - acc: 0.9834 - val_loss: 0.5811 - val_acc: 0.7992\n",
      "25000/25000 [==============================] - 7s 261us/step\n",
      "Test score: 0.5975196409416199\n",
      "Test accuracy: 0.79024\n"
     ]
    }
   ],
   "source": [
    "train_and_eval(model, input_train, y_train, input_test, y_test)"
   ]
  },
  {
   "cell_type": "markdown",
   "metadata": {},
   "source": [
    "## LSTM using the Sequential API"
   ]
  },
  {
   "cell_type": "code",
   "execution_count": 32,
   "metadata": {},
   "outputs": [
    {
     "name": "stdout",
     "output_type": "stream",
     "text": [
      "_________________________________________________________________\n",
      "Layer (type)                 Output Shape              Param #   \n",
      "=================================================================\n",
      "embedding_layer (Embedding)  (None, None, 64)          640000    \n",
      "_________________________________________________________________\n",
      "lstm_layer (LSTM)            (None, 64)                33024     \n",
      "_________________________________________________________________\n",
      "dense_layer (Dense)          (None, 1)                 65        \n",
      "=================================================================\n",
      "Total params: 673,089\n",
      "Trainable params: 673,089\n",
      "Non-trainable params: 0\n",
      "_________________________________________________________________\n"
     ]
    }
   ],
   "source": [
    "model = Sequential(name=\"lstm_sequential\")\n",
    "model.add(Embedding(n_top_freq_words, \n",
    "                    embedding_dim, \n",
    "                    input_length=max_review_length, \n",
    "                    name=\"embedding_layer\")) \n",
    "model.add(LSTM(units=embedding_dim, name=\"lstm_layer\"))\n",
    "model.add(Dense(1, activation='sigmoid', name=\"dense_layer\"))\n",
    "\n",
    "model.compile(optimizer='adam', \n",
    "              loss='binary_crossentropy', \n",
    "              metrics=['acc'])\n",
    "\n",
    "model.summary()"
   ]
  },
  {
   "cell_type": "code",
   "execution_count": 33,
   "metadata": {},
   "outputs": [
    {
     "data": {
      "text/html": [
       "<img src=\"./img/lstm_sequential.png\"/>"
      ],
      "text/plain": [
       "<IPython.core.display.Image object>"
      ]
     },
     "execution_count": 33,
     "metadata": {},
     "output_type": "execute_result"
    }
   ],
   "source": [
    "display_model(model)"
   ]
  },
  {
   "cell_type": "code",
   "execution_count": 34,
   "metadata": {},
   "outputs": [
    {
     "name": "stdout",
     "output_type": "stream",
     "text": [
      "Train on 20000 samples, validate on 5000 samples\n",
      "Epoch 1/4\n",
      "20000/20000 [==============================] - 22s 1ms/step - loss: 0.4750 - acc: 0.7569 - val_loss: 0.3410 - val_acc: 0.8492\n",
      "Epoch 2/4\n",
      "20000/20000 [==============================] - 22s 1ms/step - loss: 0.2729 - acc: 0.8917 - val_loss: 0.3561 - val_acc: 0.8492\n",
      "Epoch 3/4\n",
      "20000/20000 [==============================] - 22s 1ms/step - loss: 0.2030 - acc: 0.9239 - val_loss: 0.3707 - val_acc: 0.8440\n",
      "Epoch 4/4\n",
      "20000/20000 [==============================] - 22s 1ms/step - loss: 0.1580 - acc: 0.9449 - val_loss: 0.4176 - val_acc: 0.8406\n",
      "25000/25000 [==============================] - 11s 456us/step\n",
      "Test score: 0.43416643359184265\n",
      "Test accuracy: 0.83412\n"
     ]
    }
   ],
   "source": [
    "train_and_eval(model, input_train, y_train, input_test, y_test)"
   ]
  },
  {
   "cell_type": "code",
   "execution_count": 35,
   "metadata": {},
   "outputs": [
    {
     "data": {
      "image/png": "[encoded data removed]",
      "text/plain": [
       "<Figure size 432x288 with 1 Axes>"
      ]
     },
     "metadata": {},
     "output_type": "display_data"
    }
   ],
   "source": [
    "display_class_seperation(model)"
   ]
  },
  {
   "cell_type": "markdown",
   "metadata": {},
   "source": [
    "# GRU using the Sequential API"
   ]
  },
  {
   "cell_type": "code",
   "execution_count": 36,
   "metadata": {},
   "outputs": [
    {
     "name": "stdout",
     "output_type": "stream",
     "text": [
      "_________________________________________________________________\n",
      "Layer (type)                 Output Shape              Param #   \n",
      "=================================================================\n",
      "embedding_layer (Embedding)  (None, None, 64)          640000    \n",
      "_________________________________________________________________\n",
      "lstm_layer (GRU)             (None, 64)                24768     \n",
      "_________________________________________________________________\n",
      "dense_layer (Dense)          (None, 1)                 65        \n",
      "=================================================================\n",
      "Total params: 664,833\n",
      "Trainable params: 664,833\n",
      "Non-trainable params: 0\n",
      "_________________________________________________________________\n"
     ]
    }
   ],
   "source": [
    "model = Sequential(name=\"gru_sequential\")\n",
    "model.add(Embedding(n_top_freq_words, \n",
    "                    embedding_dim, \n",
    "                    input_length=max_review_length, \n",
    "                    name=\"embedding_layer\")) \n",
    "model.add(GRU(units=embedding_dim, name=\"lstm_layer\"))\n",
    "model.add(Dense(1, activation='sigmoid', name=\"dense_layer\"))\n",
    "\n",
    "model.compile(optimizer='adam', \n",
    "              loss='binary_crossentropy', \n",
    "              metrics=['acc'])\n",
    "\n",
    "model.summary()"
   ]
  },
  {
   "cell_type": "code",
   "execution_count": 37,
   "metadata": {},
   "outputs": [
    {
     "data": {
      "text/html": [
       "<img src=\"./img/gru_sequential.png\"/>"
      ],
      "text/plain": [
       "<IPython.core.display.Image object>"
      ]
     },
     "execution_count": 37,
     "metadata": {},
     "output_type": "execute_result"
    }
   ],
   "source": [
    "display_model(model)"
   ]
  },
  {
   "cell_type": "code",
   "execution_count": 38,
   "metadata": {},
   "outputs": [
    {
     "name": "stdout",
     "output_type": "stream",
     "text": [
      "Train on 20000 samples, validate on 5000 samples\n",
      "Epoch 1/4\n",
      "20000/20000 [==============================] - 20s 993us/step - loss: 0.4873 - acc: 0.7470 - val_loss: 0.3651 - val_acc: 0.8384\n",
      "Epoch 2/4\n",
      "20000/20000 [==============================] - 19s 961us/step - loss: 0.2712 - acc: 0.8899 - val_loss: 0.3557 - val_acc: 0.8464\n",
      "Epoch 3/4\n",
      "20000/20000 [==============================] - 19s 965us/step - loss: 0.2101 - acc: 0.9189 - val_loss: 0.3809 - val_acc: 0.8322\n",
      "Epoch 4/4\n",
      "20000/20000 [==============================] - 19s 972us/step - loss: 0.1744 - acc: 0.9365 - val_loss: 0.4747 - val_acc: 0.8306\n",
      "25000/25000 [==============================] - 11s 422us/step\n",
      "Test score: 0.49877956864833833\n",
      "Test accuracy: 0.82116\n"
     ]
    }
   ],
   "source": [
    "train_and_eval(model, input_train, y_train, input_test, y_test)"
   ]
  },
  {
   "cell_type": "code",
   "execution_count": 39,
   "metadata": {},
   "outputs": [
    {
     "data": {
      "image/png": "[encoded data removed]",
      "text/plain": [
       "<Figure size 432x288 with 1 Axes>"
      ]
     },
     "metadata": {},
     "output_type": "display_data"
    }
   ],
   "source": [
    "display_class_seperation(model)"
   ]
  }
 ],
 "metadata": {
  "kernelspec": {
   "display_name": "Python 3",
   "language": "python",
   "name": "python3"
  },
  "language_info": {
   "codemirror_mode": {
    "name": "ipython",
    "version": 3
   },
   "file_extension": ".py",
   "mimetype": "text/x-python",
   "name": "python",
   "nbconvert_exporter": "python",
   "pygments_lexer": "ipython3",
   "version": "3.5.2"
  }
 },
 "nbformat": 4,
 "nbformat_minor": 2
}
